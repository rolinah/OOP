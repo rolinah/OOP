{
 "cells": [
  {
   "cell_type": "code",
   "execution_count": 11,
   "id": "b5661af5",
   "metadata": {},
   "outputs": [
    {
     "name": "stdout",
     "output_type": "stream",
     "text": [
      "200\n",
      "200\n"
     ]
    }
   ],
   "source": [
    "class Account:\n",
    "    def __init__(self, initial_balance=0):\n",
    "        self.balance = initial_balance\n",
    "        self.transaction_history = []\n",
    "\n",
    "\n",
    "\n",
    "    \n",
    "    def check_balance(self):\n",
    "        print(f\"Your balance is :{self.balance} UGX\")\n",
    "\n",
    "acc = Account(1000)\n",
    "acc.balance = 200    \n",
    "\n",
    "print(acc.balance)\n",
    "print(acc.balance)"
   ]
  },
  {
   "cell_type": "code",
   "execution_count": 14,
   "id": "0b2ae764",
   "metadata": {},
   "outputs": [
    {
     "name": "stdout",
     "output_type": "stream",
     "text": [
      "200\n",
      "gray\n",
      "the __init__ is called\n",
      "250\n",
      "blue\n",
      "the __init__ is called\n",
      "300\n",
      "black\n",
      "the __init__ is called\n",
      "200\n",
      "gray\n"
     ]
    }
   ],
   "source": [
    "class Car:\n",
    "    def __init__ (self, speed, color):\n",
    "        print(speed)\n",
    "        print(color)\n",
    "\n",
    "        self.speed = speed\n",
    "        self.color = color\n",
    "\n",
    "        print(\"the __init__ is called\")\n",
    "\n",
    "ford = Car(200, 'gray')\n",
    "honda = Car(250, 'blue')\n",
    "Audi = Car(300, 'black')\n",
    "\n",
    "print(ford.speed)\n",
    "print(ford.color)\n",
    "\n"
   ]
  },
  {
   "cell_type": "code",
   "execution_count": 30,
   "id": "81b10479",
   "metadata": {},
   "outputs": [
    {
     "name": "stdout",
     "output_type": "stream",
     "text": [
      "500\n",
      "gray\n"
     ]
    }
   ],
   "source": [
    "class Car:\n",
    "    def __init__(self, speed, color):\n",
    "        self.speed = speed\n",
    "        self.color = color\n",
    "\n",
    "    def set_speed(self, value):\n",
    "        self.speed = value  # fixed assignment\n",
    "\n",
    "    def get_speed(self):\n",
    "        return self.speed  # removed unreachable code\n",
    "\n",
    "\n",
    "# Object creation (outside class)\n",
    "ford = Car(200, 'gray')\n",
    "honda = Car(250, 'blue')\n",
    "audi = Car(300, 'black')\n",
    "\n",
    "# Set new speed\n",
    "ford.set_speed(500)\n",
    "\n",
    "# Output\n",
    "print(ford.get_speed())   # or print(ford.speed)\n",
    "print(ford.color)\n"
   ]
  },
  {
   "cell_type": "code",
   "execution_count": 28,
   "id": "a7a2d70d",
   "metadata": {},
   "outputs": [
    {
     "name": "stdout",
     "output_type": "stream",
     "text": [
      "10\n",
      "20\n"
     ]
    },
    {
     "ename": "AttributeError",
     "evalue": "'Hello' object has no attribute '__c'",
     "output_type": "error",
     "traceback": [
      "\u001b[31m---------------------------------------------------------------------------\u001b[39m",
      "\u001b[31mAttributeError\u001b[39m                            Traceback (most recent call last)",
      "\u001b[36mCell\u001b[39m\u001b[36m \u001b[39m\u001b[32mIn[28]\u001b[39m\u001b[32m, line 10\u001b[39m\n\u001b[32m      8\u001b[39m \u001b[38;5;28mprint\u001b[39m(hello.a)  \n\u001b[32m      9\u001b[39m \u001b[38;5;28mprint\u001b[39m(hello._b)  \n\u001b[32m---> \u001b[39m\u001b[32m10\u001b[39m \u001b[38;5;28mprint\u001b[39m(\u001b[43mhello\u001b[49m\u001b[43m.\u001b[49m\u001b[43m__c\u001b[49m)        \n",
      "\u001b[31mAttributeError\u001b[39m: 'Hello' object has no attribute '__c'"
     ]
    }
   ],
   "source": [
    "class Hello:\n",
    "    def __init__(self, name):\n",
    "        self.a = 10\n",
    "        self._b = 20\n",
    "        self.__c = 30\n",
    "\n",
    "hello = Hello(\"name\")\n",
    "print(hello.a)  \n",
    "print(hello._b)  \n",
    "print(hello.__c)        \n",
    "\n",
    "        "
   ]
  },
  {
   "cell_type": "code",
   "execution_count": 31,
   "id": "52813213",
   "metadata": {},
   "outputs": [
    {
     "name": "stdout",
     "output_type": "stream",
     "text": [
      "<bound method Car.set_speed of <__main__.Car object at 0x000002136FFE3E00>>\n",
      "500\n",
      "gray\n"
     ]
    }
   ],
   "source": [
    "\n",
    "\n",
    "class Car:\n",
    "    def __init__ (self, speed, color):\n",
    "\n",
    "\n",
    "        self.__speed = speed\n",
    "        self.__color = color\n",
    "\n",
    "\n",
    "    def set_speed(self, value):\n",
    "        self.__speed = value\n",
    "\n",
    "    def get_speed(self):\n",
    "        return self.speed    \n",
    "\n",
    "        print(\"the __init__ is called\")\n",
    "\n",
    "    ford = Car(200, 'gray')\n",
    "    honda = Car(250, 'blue')\n",
    "    Audi = Car(300, 'black')\n",
    "\n",
    "\n",
    "    ford.set_speed(500)\n",
    "\n",
    "print(ford.set_speed)\n",
    "\n",
    "print(ford.speed)\n",
    "print(ford.color)"
   ]
  }
 ],
 "metadata": {
  "kernelspec": {
   "display_name": "Python 3",
   "language": "python",
   "name": "python3"
  },
  "language_info": {
   "codemirror_mode": {
    "name": "ipython",
    "version": 3
   },
   "file_extension": ".py",
   "mimetype": "text/x-python",
   "name": "python",
   "nbconvert_exporter": "python",
   "pygments_lexer": "ipython3",
   "version": "3.13.7"
  }
 },
 "nbformat": 4,
 "nbformat_minor": 5
}
