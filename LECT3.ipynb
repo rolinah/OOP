{
 "cells": [
  {
   "cell_type": "code",
   "execution_count": 1,
   "id": "1f93137e",
   "metadata": {},
   "outputs": [
    {
     "name": "stdout",
     "output_type": "stream",
     "text": [
      "600\n",
      "Margie's box has: 2003000 coins\n"
     ]
    }
   ],
   "source": [
    "coins = 100\n",
    "coins2= 500+100\n",
    "print (coins2)\n",
    "\n",
    "class Piggybank:\n",
    "    def __init__(self,coins):\n",
    "        self._coins=coins\n",
    "        self.put_in(coins)\n",
    "\n",
    "    def put_in(self, amount):\n",
    "        if amount <= 0:\n",
    "            raise ValueError(\"Add real money\")\n",
    "        self._coins += amount\n",
    "\n",
    "    def take_out(self, amount):\n",
    "        if amount <=0:\n",
    "            raise ValueError(\"Be for real\")\n",
    "        if amount > self.coins:\n",
    "            raise ValueError(\"Money has come\")\n",
    "        self._coins -= amount\n",
    "    \n",
    "    def how_much(self):\n",
    "        return self._coins\n",
    "\n",
    "Margie= Piggybank(1000000)\n",
    "Margie.put_in(3000)\n",
    "print(\"Margie's box has:\",Margie.how_much(),\"coins\")"
   ]
  }
 ],
 "metadata": {
  "kernelspec": {
   "display_name": "Python 3",
   "language": "python",
   "name": "python3"
  },
  "language_info": {
   "codemirror_mode": {
    "name": "ipython",
    "version": 3
   },
   "file_extension": ".py",
   "mimetype": "text/x-python",
   "name": "python",
   "nbconvert_exporter": "python",
   "pygments_lexer": "ipython3",
   "version": "3.13.7"
  }
 },
 "nbformat": 4,
 "nbformat_minor": 5
}
